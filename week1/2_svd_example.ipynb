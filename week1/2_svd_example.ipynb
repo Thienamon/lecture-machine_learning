{
 "cells": [
  {
   "cell_type": "code",
   "execution_count": 1,
   "metadata": {
    "collapsed": true
   },
   "outputs": [],
   "source": [
    "import tensorflow as tf"
   ]
  },
  {
   "cell_type": "code",
   "execution_count": 2,
   "metadata": {
    "collapsed": false
   },
   "outputs": [],
   "source": [
    "# make computational graph for SVD (singular value decomposition)\n",
    "# ref: https://www.tensorflow.org/api_docs/python/tf/svd\n",
    "\n",
    "A = tf.placeholder(tf.float32)\n",
    "s, U, V = tf.svd(A) # A = U*diag(s)*V^T\n",
    "\n",
    "diag_s = tf.diag(s)\n",
    "V_T = tf.transpose(V)\n",
    "reconst_A = tf.matmul(tf.matmul(U,diag_s), V_T)"
   ]
  },
  {
   "cell_type": "code",
   "execution_count": 3,
   "metadata": {
    "collapsed": true
   },
   "outputs": [],
   "source": [
    "sess = tf.Session()"
   ]
  },
  {
   "cell_type": "code",
   "execution_count": 4,
   "metadata": {
    "collapsed": false
   },
   "outputs": [],
   "source": [
    "input_matrix = [[1, 2, 3],\n",
    "                [9, 8, 7]]\n",
    "singular, mat_U, mat_V = sess.run([s, U, V], {A:input_matrix})"
   ]
  },
  {
   "cell_type": "code",
   "execution_count": 5,
   "metadata": {
    "collapsed": false
   },
   "outputs": [
    {
     "name": "stdout",
     "output_type": "stream",
     "text": [
      "- output shape check\n",
      "((2,), (2, 2), (3, 2))\n",
      "\n",
      "- singular value\n",
      "[ 14.32041454   1.71048856]\n",
      "\n",
      "- right singular vectors\n",
      "[[-0.23405695 -0.97222292]\n",
      " [-0.97222292  0.23405695]]\n",
      "\n",
      "- left singular vectors\n",
      "[[-0.62736064  0.66313809]\n",
      " [-0.57581419 -0.04208755]\n",
      " [-0.52426785 -0.74731302]]\n"
     ]
    }
   ],
   "source": [
    "print '- output shape check'\n",
    "print (singular.shape, mat_U.shape, mat_V.shape)\n",
    "print\n",
    "print '- singular value'\n",
    "print singular\n",
    "print\n",
    "print '- right singular vectors'\n",
    "print mat_U\n",
    "print\n",
    "print '- left singular vectors'\n",
    "print mat_V"
   ]
  },
  {
   "cell_type": "code",
   "execution_count": 6,
   "metadata": {
    "collapsed": false
   },
   "outputs": [
    {
     "name": "stdout",
     "output_type": "stream",
     "text": [
      "- reconstruction matrix A\n",
      "[[ 0.99999988  2.00000024  3.00000095]\n",
      " [ 9.00000191  8.00000095  7.00000191]]\n"
     ]
    }
   ],
   "source": [
    "print '- reconstruction matrix A'\n",
    "print(sess.run(reconst_A, {A:input_matrix}))"
   ]
  },
  {
   "cell_type": "code",
   "execution_count": 7,
   "metadata": {
    "collapsed": false
   },
   "outputs": [
    {
     "name": "stdout",
     "output_type": "stream",
     "text": [
      "((4, 2), (4, 2, 2), (4, 3, 2))\n"
     ]
    }
   ],
   "source": [
    "input_matrix1 = [[1, 2, 3],\n",
    "                [9, 8, 7]]\n",
    "input_matrix2 = [[100, 0.1, 2],\n",
    "                [7, 128, 64]]\n",
    "input_tensor = [input_matrix1, input_matrix2, input_matrix1, input_matrix2]\n",
    "singular, mat_U, mat_V = sess.run([s, U, V], {A:input_tensor})\n",
    "print (singular.shape, mat_U.shape, mat_V.shape)"
   ]
  },
  {
   "cell_type": "code",
   "execution_count": 8,
   "metadata": {
    "collapsed": false
   },
   "outputs": [
    {
     "name": "stdout",
     "output_type": "stream",
     "text": [
      "- singular value\n",
      "[ 14.32041454   1.71048856]\n",
      "\n",
      "- right singular vectors\n",
      "[[-0.23405695 -0.97222292]\n",
      " [-0.97222292  0.23405695]]\n",
      "\n",
      "- left singular vectors\n",
      "[[-0.62736064  0.66313809]\n",
      " [-0.57581419 -0.04208755]\n",
      " [-0.52426785 -0.74731302]]\n"
     ]
    }
   ],
   "source": [
    "print '- singular value'\n",
    "print singular[0]\n",
    "print\n",
    "print '- right singular vectors'\n",
    "print mat_U[0]\n",
    "print\n",
    "print '- left singular vectors'\n",
    "print mat_V[0]"
   ]
  }
 ],
 "metadata": {
  "kernelspec": {
   "display_name": "Python 2",
   "language": "python",
   "name": "python2"
  },
  "language_info": {
   "codemirror_mode": {
    "name": "ipython",
    "version": 2
   },
   "file_extension": ".py",
   "mimetype": "text/x-python",
   "name": "python",
   "nbconvert_exporter": "python",
   "pygments_lexer": "ipython2",
   "version": "2.7.12"
  }
 },
 "nbformat": 4,
 "nbformat_minor": 1
}
