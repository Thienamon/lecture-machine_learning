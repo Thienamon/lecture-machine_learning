{
 "cells": [
  {
   "cell_type": "code",
   "execution_count": 1,
   "metadata": {
    "collapsed": true
   },
   "outputs": [],
   "source": [
    "import tensorflow as tf"
   ]
  },
  {
   "cell_type": "code",
   "execution_count": 2,
   "metadata": {
    "collapsed": false
   },
   "outputs": [
    {
     "name": "stdout",
     "output_type": "stream",
     "text": [
      "Tensor(\"Const:0\", shape=(), dtype=float32)\n",
      "Tensor(\"Const_1:0\", shape=(), dtype=float32)\n",
      "[3.0, 4.0]\n"
     ]
    }
   ],
   "source": [
    "\"\"\"\n",
    "1. Tensors\n",
    "\n",
    "3                                # a rank 0 tensor, this is a scalar, shape []\n",
    "[1, 2, 3]                        # a rank 1 tensor, this is a vector, shape [3]\n",
    "[[1, 2, 3], [4, 5, 6]]           # a rank 2 tensor, this is a matrix, shape [2, 3]\n",
    "[[[1,2,3]], [[7, 8, 9]]]         # a rank 3 tensor, shape [2,1,3]\n",
    "\"\"\"\n",
    "\n",
    "#===================================================\n",
    "\"\"\"\n",
    "2. Simple graph\n",
    "\n",
    "1) Building the computational graph\n",
    "\n",
    "- node: take input tensor -> some operation -> output tensor\n",
    "- constant node: take no inputs -> output tensor\n",
    "\"\"\"\n",
    "\n",
    "node1 = tf.constant(3.0, tf.float32)\n",
    "node2 = tf.constant(4.0) # default type: tf.float32\n",
    "print(node1)\n",
    "print(node2)\n",
    "\n",
    "\"\"\"\n",
    "2) Running the computational graph\n",
    "\n",
    "- run the session for evaluate nodes\n",
    "\"\"\"\n",
    "\n",
    "sess = tf.Session()             # create tf.Session object\n",
    "print(sess.run([node1, node2])) # evaluate node1, node2\n",
    "\n",
    "#==================================================="
   ]
  },
  {
   "cell_type": "code",
   "execution_count": 3,
   "metadata": {
    "collapsed": false
   },
   "outputs": [
    {
     "name": "stdout",
     "output_type": "stream",
     "text": [
      "7.0\n",
      "-1.0\n",
      "12.0\n",
      "0.75\n"
     ]
    }
   ],
   "source": [
    "\"\"\"\n",
    "3. Operation node\n",
    "\"\"\"\n",
    "\n",
    "node3 = tf.add(node1, node2) # make add operation (also node)\n",
    "print(sess.run(node3))\n",
    "node4 = tf.sub(node1, node2)\n",
    "print(sess.run(node4))\n",
    "node5 = tf.mul(node1, node2)\n",
    "print(sess.run(node5))\n",
    "node6 = tf.div(node1, node2)\n",
    "print(sess.run(node6))"
   ]
  },
  {
   "cell_type": "code",
   "execution_count": 4,
   "metadata": {
    "collapsed": false
   },
   "outputs": [
    {
     "name": "stdout",
     "output_type": "stream",
     "text": [
      "7.5\n",
      "[ 3.  7.]\n",
      "22.5\n"
     ]
    }
   ],
   "source": [
    "\"\"\"\n",
    "4. Placeholder: take inputs\n",
    "\"\"\"\n",
    "\n",
    "a = tf.placeholder(tf.float32) # take external input -> output tensor\n",
    "b = tf.placeholder(tf.float32)\n",
    "add_node = a + b               # '+' provides a shortcut for tf.add(a, b)\n",
    "print(sess.run(add_node, {a: 3, b:4.5}))\n",
    "print(sess.run(add_node, {a: [1, 3], b: [2, 4]}))\n",
    "\n",
    "add_and_triple = add_node * 3. # '*' provides a shortcut for tf.mul(a, b)\n",
    "print(sess.run(add_and_triple, {a: 3, b:4.5}))"
   ]
  }
 ],
 "metadata": {
  "kernelspec": {
   "display_name": "Python 2",
   "language": "python",
   "name": "python2"
  },
  "language_info": {
   "codemirror_mode": {
    "name": "ipython",
    "version": 2
   },
   "file_extension": ".py",
   "mimetype": "text/x-python",
   "name": "python",
   "nbconvert_exporter": "python",
   "pygments_lexer": "ipython2",
   "version": "2.7.12"
  }
 },
 "nbformat": 4,
 "nbformat_minor": 1
}
