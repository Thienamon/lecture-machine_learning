{
 "cells": [
  {
   "cell_type": "code",
   "execution_count": 1,
   "metadata": {
    "collapsed": false
   },
   "outputs": [
    {
     "data": {
      "text/plain": [
       "'\\nAx = b\\nshape of A matrix: (n,m)\\nshape of x vector: (m, 1)\\nshape of b vector: (n, 1)\\n\\n1) solution1: pseudo-inverse\\n\\nx = pseudo_inverse(A) * b\\n\\n2) solution2: gradient descent optimization\\n\\nf(x) = Ax - b\\nx := x - epsilon * gradient(f(x), x)\\n\\n'"
      ]
     },
     "execution_count": 1,
     "metadata": {},
     "output_type": "execute_result"
    }
   ],
   "source": [
    "import tensorflow as tf\n",
    "\"\"\"\n",
    "Ax = b\n",
    "shape of A matrix: (n,m)\n",
    "shape of x vector: (m, 1)\n",
    "shape of b vector: (n, 1)\n",
    "\n",
    "1) solution1: pseudo-inverse\n",
    "\n",
    "x = pseudo_inverse(A) * b\n",
    "\n",
    "2) solution2: gradient descent optimization\n",
    "\n",
    "f(x) = Ax - b\n",
    "x := x - epsilon * gradient(f(x), x)\n",
    "\n",
    "\"\"\""
   ]
  },
  {
   "cell_type": "code",
   "execution_count": 2,
   "metadata": {
    "collapsed": true
   },
   "outputs": [],
   "source": [
    "def pseudo_inverse(A):\n",
    "    \"\"\"\n",
    "    pseudo_inverse_A = inverse(A_transpose * A) * A_transpose\n",
    "    condition: (A_transpose * A) is invertible matrix  \n",
    "    \"\"\"\n",
    "    A_trans = tf.matrix_transpose(A, name='trans_A')\n",
    "    A_trans_A = tf.matmul(A_trans, A)\n",
    "    #same operation: tf.matmul(A, A, transpose_a=True, transpose_b=False)\n",
    "    \n",
    "    A_trans_A_inv = tf.matrix_inverse(A_trans_A)\n",
    "\n",
    "    pseudo_inv_A = tf.matmul(A_trans_A_inv, A_trans)\n",
    "    \n",
    "    return pseudo_inv_A"
   ]
  },
  {
   "cell_type": "code",
   "execution_count": 3,
   "metadata": {
    "collapsed": true
   },
   "outputs": [],
   "source": [
    "def pseudo_inverse_with_svd(A):\n",
    "    \"\"\"\n",
    "    pseudo_inverse_A = V * diag(lambda_plus) * U_transpose\n",
    "    note1: SVD(A) = U * diag(lambda) * V_transpose\n",
    "    note2: lambda_plus = pow(lambda, -1)\n",
    "    \"\"\"\n",
    "    \n",
    "    s, u, v = tf.svd(A)\n",
    "    lamda_plus = tf.diag(tf.pow(s, -1))\n",
    "    v_lamda_plus = tf.matmul(v, lamda_plus)\n",
    "    u_trans = tf.matrix_transpose(u)\n",
    "    pseudo_inv_A_approx = tf.matmul(v_lamda_plus, u_trans)\n",
    "    \n",
    "    return pseudo_inv_A_approx"
   ]
  },
  {
   "cell_type": "code",
   "execution_count": 4,
   "metadata": {
    "collapsed": false
   },
   "outputs": [],
   "source": [
    "# input\n",
    "A = tf.placeholder(tf.float32)\n",
    "b = tf.placeholder(tf.float32)\n",
    "\n",
    "# create computational graph at default graph\n",
    "# 1) sol_1: pseudo inverse\n",
    "x = tf.matmul(pseudo_inverse(A), b)\n",
    "\n",
    "# 2) sol_2: pseudo inverse with SVD\n",
    "x_svd = tf.matmul(pseudo_inverse_with_svd(A), b)\n",
    "\n",
    "# 3) sol_3: gradient descent optimize\n",
    "init_val = [[20.]]\n",
    "var_x = tf.Variable(init_val, name='x')\n",
    "f_x = tf.abs(tf.matmul(A, var_x) - b)\n",
    "\n",
    "optimizer = tf.train.GradientDescentOptimizer(1e-3).minimize(f_x)"
   ]
  },
  {
   "cell_type": "code",
   "execution_count": 5,
   "metadata": {
    "collapsed": true
   },
   "outputs": [],
   "source": [
    "# create TF session\n",
    "sess = tf.Session()\n",
    "\n",
    "# TF variable have to initialize before optimization\n",
    "init = tf.global_variables_initializer()\n",
    "sess.run(init)"
   ]
  },
  {
   "cell_type": "code",
   "execution_count": 6,
   "metadata": {
    "collapsed": false
   },
   "outputs": [
    {
     "name": "stdout",
     "output_type": "stream",
     "text": [
      "1) solution using pseudo_inverse\n",
      "[[ 0.96352446]]\n",
      "\n",
      "2) solution using pseudo_inverse with SVD\n",
      "[[ 0.9635247]]\n"
     ]
    }
   ],
   "source": [
    "# data\n",
    "\"\"\"\n",
    "matrix_A = [[1,-1],\n",
    "            [1,2],\n",
    "            [5,6]]\n",
    "\n",
    "vector_b = [[1],\n",
    "            [2],\n",
    "            [3]]\n",
    "\n",
    "\"\"\"\n",
    "matrix_A = [[1],\n",
    "            [2],\n",
    "            [3],\n",
    "            [5],\n",
    "            [7],\n",
    "            [20]]\n",
    "\n",
    "vector_b = [[1.2],\n",
    "            [1.9],\n",
    "            [3.1],\n",
    "            [5.8],\n",
    "            [6.7],\n",
    "            [19.]]\n",
    "\n",
    "print '1) solution using pseudo_inverse'\n",
    "print(sess.run(x, {A:matrix_A, b:vector_b}))\n",
    "print '\\n2) solution using pseudo_inverse with SVD'\n",
    "print(sess.run(x_svd, {A:matrix_A, b:vector_b}))"
   ]
  },
  {
   "cell_type": "code",
   "execution_count": 7,
   "metadata": {
    "collapsed": false
   },
   "outputs": [
    {
     "name": "stdout",
     "output_type": "stream",
     "text": [
      "\n",
      "3) solution using gradient descent optimize\n",
      "step: 0,  x: 19.962000\n",
      "step: 50,  x: 18.061995\n",
      "step: 100,  x: 16.161989\n",
      "step: 150,  x: 14.261984\n",
      "step: 200,  x: 12.361979\n",
      "step: 250,  x: 10.461973\n",
      "step: 300,  x: 8.561968\n",
      "step: 350,  x: 6.661963\n",
      "step: 400,  x: 4.761957\n",
      "step: 450,  x: 2.861952\n",
      "step: 500,  x: 1.023950\n",
      "step: 550,  x: 0.979950\n",
      "step: 600,  x: 0.949951\n",
      "step: 650,  x: 0.963951\n",
      "step: 700,  x: 0.977951\n",
      "step: 750,  x: 0.947952\n",
      "step: 800,  x: 0.961952\n",
      "step: 850,  x: 0.975953\n",
      "step: 900,  x: 0.945953\n",
      "step: 950,  x: 0.959953\n"
     ]
    }
   ],
   "source": [
    "print '\\n3) solution using gradient descent optimize'\n",
    "for i in range(1000):\n",
    "    sess.run(optimizer, {A:matrix_A, b:vector_b})\n",
    "    if i%50==0:\n",
    "        now_var_x = sess.run(var_x)\n",
    "        print('step: %d,  x: %f' % (i, now_var_x[0,0]))"
   ]
  },
  {
   "cell_type": "code",
   "execution_count": null,
   "metadata": {
    "collapsed": true
   },
   "outputs": [],
   "source": []
  }
 ],
 "metadata": {
  "kernelspec": {
   "display_name": "Python 2",
   "language": "python",
   "name": "python2"
  },
  "language_info": {
   "codemirror_mode": {
    "name": "ipython",
    "version": 2
   },
   "file_extension": ".py",
   "mimetype": "text/x-python",
   "name": "python",
   "nbconvert_exporter": "python",
   "pygments_lexer": "ipython2",
   "version": "2.7.12"
  }
 },
 "nbformat": 4,
 "nbformat_minor": 1
}
